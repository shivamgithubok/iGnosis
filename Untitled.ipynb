{
 "cells": [
  {
   "cell_type": "code",
   "execution_count": 34,
   "id": "ceaa0e53-4697-4540-b7bd-88ec0f9225c8",
   "metadata": {},
   "outputs": [],
   "source": [
    "import numpy as np\n",
    "import pandas as pd\n",
    "import matplotlib.pyplot as plt\n",
    "import seaborn as sns"
   ]
  },
  {
   "cell_type": "code",
   "execution_count": 35,
   "id": "6f89d7d2-567d-4c7c-94a2-17f7ce5ee86d",
   "metadata": {},
   "outputs": [],
   "source": [
    "purchase = pd.read_csv(\"purchase_behaviour.csv\")"
   ]
  },
  {
   "cell_type": "code",
   "execution_count": 36,
   "id": "ec5c3e16-b3ef-43f0-be67-2972ce33dec8",
   "metadata": {},
   "outputs": [],
   "source": [
    "transaction = pd.read_csv(\"transaction_data.csv\")"
   ]
  },
  {
   "cell_type": "code",
   "execution_count": 37,
   "id": "c642d944-666d-48a2-ae65-194ccc156225",
   "metadata": {},
   "outputs": [],
   "source": [
    "# Top 3 most profitable products\n",
    "# Key traits of loyal customers (age, marital status, spending habits, etc.)\n",
    "# Why those customers prefer certain products\n",
    "# Insights/recommendations for the marketing team"
   ]
  },
  {
   "cell_type": "code",
   "execution_count": 38,
   "id": "78d35b11-442c-4cc9-bbc8-da14e16305c2",
   "metadata": {},
   "outputs": [
    {
     "data": {
      "text/html": [
       "<div>\n",
       "<style scoped>\n",
       "    .dataframe tbody tr th:only-of-type {\n",
       "        vertical-align: middle;\n",
       "    }\n",
       "\n",
       "    .dataframe tbody tr th {\n",
       "        vertical-align: top;\n",
       "    }\n",
       "\n",
       "    .dataframe thead th {\n",
       "        text-align: right;\n",
       "    }\n",
       "</style>\n",
       "<table border=\"1\" class=\"dataframe\">\n",
       "  <thead>\n",
       "    <tr style=\"text-align: right;\">\n",
       "      <th></th>\n",
       "      <th>LYLTY_CARD_NBR</th>\n",
       "      <th>LIFESTAGE</th>\n",
       "      <th>PREMIUM_CUSTOMER</th>\n",
       "    </tr>\n",
       "  </thead>\n",
       "  <tbody>\n",
       "    <tr>\n",
       "      <th>0</th>\n",
       "      <td>1000</td>\n",
       "      <td>YOUNG SINGLES/COUPLES</td>\n",
       "      <td>Premium</td>\n",
       "    </tr>\n",
       "    <tr>\n",
       "      <th>1</th>\n",
       "      <td>1002</td>\n",
       "      <td>YOUNG SINGLES/COUPLES</td>\n",
       "      <td>Mainstream</td>\n",
       "    </tr>\n",
       "    <tr>\n",
       "      <th>2</th>\n",
       "      <td>1003</td>\n",
       "      <td>YOUNG FAMILIES</td>\n",
       "      <td>Budget</td>\n",
       "    </tr>\n",
       "    <tr>\n",
       "      <th>3</th>\n",
       "      <td>1004</td>\n",
       "      <td>OLDER SINGLES/COUPLES</td>\n",
       "      <td>Mainstream</td>\n",
       "    </tr>\n",
       "    <tr>\n",
       "      <th>4</th>\n",
       "      <td>1005</td>\n",
       "      <td>MIDAGE SINGLES/COUPLES</td>\n",
       "      <td>Mainstream</td>\n",
       "    </tr>\n",
       "  </tbody>\n",
       "</table>\n",
       "</div>"
      ],
      "text/plain": [
       "   LYLTY_CARD_NBR               LIFESTAGE PREMIUM_CUSTOMER\n",
       "0            1000   YOUNG SINGLES/COUPLES          Premium\n",
       "1            1002   YOUNG SINGLES/COUPLES       Mainstream\n",
       "2            1003          YOUNG FAMILIES           Budget\n",
       "3            1004   OLDER SINGLES/COUPLES       Mainstream\n",
       "4            1005  MIDAGE SINGLES/COUPLES       Mainstream"
      ]
     },
     "execution_count": 38,
     "metadata": {},
     "output_type": "execute_result"
    }
   ],
   "source": [
    "purchase.head()"
   ]
  },
  {
   "cell_type": "code",
   "execution_count": 39,
   "id": "5fba68fe-c09b-48cc-b39f-b7704f27af84",
   "metadata": {},
   "outputs": [
    {
     "data": {
      "text/html": [
       "<div>\n",
       "<style scoped>\n",
       "    .dataframe tbody tr th:only-of-type {\n",
       "        vertical-align: middle;\n",
       "    }\n",
       "\n",
       "    .dataframe tbody tr th {\n",
       "        vertical-align: top;\n",
       "    }\n",
       "\n",
       "    .dataframe thead th {\n",
       "        text-align: right;\n",
       "    }\n",
       "</style>\n",
       "<table border=\"1\" class=\"dataframe\">\n",
       "  <thead>\n",
       "    <tr style=\"text-align: right;\">\n",
       "      <th></th>\n",
       "      <th>DATE</th>\n",
       "      <th>STORE_NBR</th>\n",
       "      <th>LYLTY_CARD_NBR</th>\n",
       "      <th>TXN_ID</th>\n",
       "      <th>PROD_NBR</th>\n",
       "      <th>PROD_NAME</th>\n",
       "      <th>PROD_QTY</th>\n",
       "      <th>TOT_SALES</th>\n",
       "    </tr>\n",
       "  </thead>\n",
       "  <tbody>\n",
       "    <tr>\n",
       "      <th>0</th>\n",
       "      <td>43390</td>\n",
       "      <td>1</td>\n",
       "      <td>1000</td>\n",
       "      <td>1</td>\n",
       "      <td>5</td>\n",
       "      <td>Natural Chip        Compny SeaSalt175g</td>\n",
       "      <td>2</td>\n",
       "      <td>6.0</td>\n",
       "    </tr>\n",
       "    <tr>\n",
       "      <th>1</th>\n",
       "      <td>43599</td>\n",
       "      <td>1</td>\n",
       "      <td>1307</td>\n",
       "      <td>348</td>\n",
       "      <td>66</td>\n",
       "      <td>CCs Nacho Cheese    175g</td>\n",
       "      <td>3</td>\n",
       "      <td>6.3</td>\n",
       "    </tr>\n",
       "    <tr>\n",
       "      <th>2</th>\n",
       "      <td>43605</td>\n",
       "      <td>1</td>\n",
       "      <td>1343</td>\n",
       "      <td>383</td>\n",
       "      <td>61</td>\n",
       "      <td>Smiths Crinkle Cut  Chips Chicken 170g</td>\n",
       "      <td>2</td>\n",
       "      <td>2.9</td>\n",
       "    </tr>\n",
       "    <tr>\n",
       "      <th>3</th>\n",
       "      <td>43329</td>\n",
       "      <td>2</td>\n",
       "      <td>2373</td>\n",
       "      <td>974</td>\n",
       "      <td>69</td>\n",
       "      <td>Smiths Chip Thinly  S/Cream&amp;Onion 175g</td>\n",
       "      <td>5</td>\n",
       "      <td>15.0</td>\n",
       "    </tr>\n",
       "    <tr>\n",
       "      <th>4</th>\n",
       "      <td>43330</td>\n",
       "      <td>2</td>\n",
       "      <td>2426</td>\n",
       "      <td>1038</td>\n",
       "      <td>108</td>\n",
       "      <td>Kettle Tortilla ChpsHny&amp;Jlpno Chili 150g</td>\n",
       "      <td>3</td>\n",
       "      <td>13.8</td>\n",
       "    </tr>\n",
       "  </tbody>\n",
       "</table>\n",
       "</div>"
      ],
      "text/plain": [
       "    DATE  STORE_NBR  LYLTY_CARD_NBR  TXN_ID  PROD_NBR  \\\n",
       "0  43390          1            1000       1         5   \n",
       "1  43599          1            1307     348        66   \n",
       "2  43605          1            1343     383        61   \n",
       "3  43329          2            2373     974        69   \n",
       "4  43330          2            2426    1038       108   \n",
       "\n",
       "                                  PROD_NAME  PROD_QTY  TOT_SALES  \n",
       "0    Natural Chip        Compny SeaSalt175g         2        6.0  \n",
       "1                  CCs Nacho Cheese    175g         3        6.3  \n",
       "2    Smiths Crinkle Cut  Chips Chicken 170g         2        2.9  \n",
       "3    Smiths Chip Thinly  S/Cream&Onion 175g         5       15.0  \n",
       "4  Kettle Tortilla ChpsHny&Jlpno Chili 150g         3       13.8  "
      ]
     },
     "execution_count": 39,
     "metadata": {},
     "output_type": "execute_result"
    }
   ],
   "source": [
    "transaction.head()"
   ]
  },
  {
   "cell_type": "code",
   "execution_count": 40,
   "id": "58538f7b-50d0-4a44-a051-350cae8433df",
   "metadata": {},
   "outputs": [
    {
     "data": {
      "text/plain": [
       "(72637, 3)"
      ]
     },
     "execution_count": 40,
     "metadata": {},
     "output_type": "execute_result"
    }
   ],
   "source": [
    "purchase.shape"
   ]
  },
  {
   "cell_type": "code",
   "execution_count": 41,
   "id": "c197545d-0f62-4da1-9655-8d265cde44fb",
   "metadata": {},
   "outputs": [
    {
     "data": {
      "text/plain": [
       "(264836, 8)"
      ]
     },
     "execution_count": 41,
     "metadata": {},
     "output_type": "execute_result"
    }
   ],
   "source": [
    "transaction.shape"
   ]
  },
  {
   "cell_type": "code",
   "execution_count": 42,
   "id": "051a6c5d-9a23-4b69-8590-ce48226277ab",
   "metadata": {},
   "outputs": [
    {
     "data": {
      "text/plain": [
       "0"
      ]
     },
     "execution_count": 42,
     "metadata": {},
     "output_type": "execute_result"
    }
   ],
   "source": [
    "# Data cleaning\n",
    "purchase.duplicated().sum()"
   ]
  },
  {
   "cell_type": "code",
   "execution_count": 43,
   "id": "a5946330-c41a-440b-bbe4-bfb207f0f6f5",
   "metadata": {},
   "outputs": [
    {
     "data": {
      "text/plain": [
       "1"
      ]
     },
     "execution_count": 43,
     "metadata": {},
     "output_type": "execute_result"
    }
   ],
   "source": [
    "transaction.duplicated().sum()"
   ]
  },
  {
   "cell_type": "code",
   "execution_count": 44,
   "id": "8d7c31fc-f566-4fe6-959e-c005565d5a34",
   "metadata": {},
   "outputs": [],
   "source": [
    "transaction = transaction.drop_duplicates()"
   ]
  },
  {
   "cell_type": "code",
   "execution_count": 45,
   "id": "c360f177-ec4a-45e1-821c-706ca743aea9",
   "metadata": {},
   "outputs": [
    {
     "data": {
      "text/plain": [
       "0"
      ]
     },
     "execution_count": 45,
     "metadata": {},
     "output_type": "execute_result"
    }
   ],
   "source": [
    "transaction.duplicated().sum()"
   ]
  },
  {
   "cell_type": "code",
   "execution_count": 46,
   "id": "e5b18ae9-1287-4fcc-bc39-9785dd6bd952",
   "metadata": {},
   "outputs": [],
   "source": [
    "df = transaction.merge(purchase,on='LYLTY_CARD_NBR')"
   ]
  },
  {
   "cell_type": "code",
   "execution_count": 47,
   "id": "18c3fd27-1842-4030-9063-d14e28785d01",
   "metadata": {},
   "outputs": [
    {
     "data": {
      "text/html": [
       "<div>\n",
       "<style scoped>\n",
       "    .dataframe tbody tr th:only-of-type {\n",
       "        vertical-align: middle;\n",
       "    }\n",
       "\n",
       "    .dataframe tbody tr th {\n",
       "        vertical-align: top;\n",
       "    }\n",
       "\n",
       "    .dataframe thead th {\n",
       "        text-align: right;\n",
       "    }\n",
       "</style>\n",
       "<table border=\"1\" class=\"dataframe\">\n",
       "  <thead>\n",
       "    <tr style=\"text-align: right;\">\n",
       "      <th></th>\n",
       "      <th>DATE</th>\n",
       "      <th>STORE_NBR</th>\n",
       "      <th>LYLTY_CARD_NBR</th>\n",
       "      <th>TXN_ID</th>\n",
       "      <th>PROD_NBR</th>\n",
       "      <th>PROD_NAME</th>\n",
       "      <th>PROD_QTY</th>\n",
       "      <th>TOT_SALES</th>\n",
       "      <th>LIFESTAGE</th>\n",
       "      <th>PREMIUM_CUSTOMER</th>\n",
       "    </tr>\n",
       "  </thead>\n",
       "  <tbody>\n",
       "    <tr>\n",
       "      <th>0</th>\n",
       "      <td>43390</td>\n",
       "      <td>1</td>\n",
       "      <td>1000</td>\n",
       "      <td>1</td>\n",
       "      <td>5</td>\n",
       "      <td>Natural Chip        Compny SeaSalt175g</td>\n",
       "      <td>2</td>\n",
       "      <td>6.0</td>\n",
       "      <td>YOUNG SINGLES/COUPLES</td>\n",
       "      <td>Premium</td>\n",
       "    </tr>\n",
       "    <tr>\n",
       "      <th>1</th>\n",
       "      <td>43599</td>\n",
       "      <td>1</td>\n",
       "      <td>1307</td>\n",
       "      <td>348</td>\n",
       "      <td>66</td>\n",
       "      <td>CCs Nacho Cheese    175g</td>\n",
       "      <td>3</td>\n",
       "      <td>6.3</td>\n",
       "      <td>MIDAGE SINGLES/COUPLES</td>\n",
       "      <td>Budget</td>\n",
       "    </tr>\n",
       "    <tr>\n",
       "      <th>2</th>\n",
       "      <td>43605</td>\n",
       "      <td>1</td>\n",
       "      <td>1343</td>\n",
       "      <td>383</td>\n",
       "      <td>61</td>\n",
       "      <td>Smiths Crinkle Cut  Chips Chicken 170g</td>\n",
       "      <td>2</td>\n",
       "      <td>2.9</td>\n",
       "      <td>MIDAGE SINGLES/COUPLES</td>\n",
       "      <td>Budget</td>\n",
       "    </tr>\n",
       "    <tr>\n",
       "      <th>3</th>\n",
       "      <td>43329</td>\n",
       "      <td>2</td>\n",
       "      <td>2373</td>\n",
       "      <td>974</td>\n",
       "      <td>69</td>\n",
       "      <td>Smiths Chip Thinly  S/Cream&amp;Onion 175g</td>\n",
       "      <td>5</td>\n",
       "      <td>15.0</td>\n",
       "      <td>MIDAGE SINGLES/COUPLES</td>\n",
       "      <td>Budget</td>\n",
       "    </tr>\n",
       "    <tr>\n",
       "      <th>4</th>\n",
       "      <td>43330</td>\n",
       "      <td>2</td>\n",
       "      <td>2426</td>\n",
       "      <td>1038</td>\n",
       "      <td>108</td>\n",
       "      <td>Kettle Tortilla ChpsHny&amp;Jlpno Chili 150g</td>\n",
       "      <td>3</td>\n",
       "      <td>13.8</td>\n",
       "      <td>MIDAGE SINGLES/COUPLES</td>\n",
       "      <td>Budget</td>\n",
       "    </tr>\n",
       "  </tbody>\n",
       "</table>\n",
       "</div>"
      ],
      "text/plain": [
       "    DATE  STORE_NBR  LYLTY_CARD_NBR  TXN_ID  PROD_NBR  \\\n",
       "0  43390          1            1000       1         5   \n",
       "1  43599          1            1307     348        66   \n",
       "2  43605          1            1343     383        61   \n",
       "3  43329          2            2373     974        69   \n",
       "4  43330          2            2426    1038       108   \n",
       "\n",
       "                                  PROD_NAME  PROD_QTY  TOT_SALES  \\\n",
       "0    Natural Chip        Compny SeaSalt175g         2        6.0   \n",
       "1                  CCs Nacho Cheese    175g         3        6.3   \n",
       "2    Smiths Crinkle Cut  Chips Chicken 170g         2        2.9   \n",
       "3    Smiths Chip Thinly  S/Cream&Onion 175g         5       15.0   \n",
       "4  Kettle Tortilla ChpsHny&Jlpno Chili 150g         3       13.8   \n",
       "\n",
       "                LIFESTAGE PREMIUM_CUSTOMER  \n",
       "0   YOUNG SINGLES/COUPLES          Premium  \n",
       "1  MIDAGE SINGLES/COUPLES           Budget  \n",
       "2  MIDAGE SINGLES/COUPLES           Budget  \n",
       "3  MIDAGE SINGLES/COUPLES           Budget  \n",
       "4  MIDAGE SINGLES/COUPLES           Budget  "
      ]
     },
     "execution_count": 47,
     "metadata": {},
     "output_type": "execute_result"
    }
   ],
   "source": [
    "df.head()"
   ]
  },
  {
   "cell_type": "code",
   "execution_count": 48,
   "id": "37671158-cdbf-49c0-8b77-99570ac6f265",
   "metadata": {},
   "outputs": [],
   "source": [
    "# Group by product name and sum total sales\n",
    "product_revenue = df.groupby(\"PROD_NAME\")[\"TOT_SALES\"].sum().reset_index()"
   ]
  },
  {
   "cell_type": "code",
   "execution_count": 49,
   "id": "e50596e4-39fb-47b9-bb75-8a143763621e",
   "metadata": {},
   "outputs": [],
   "source": [
    "# Sort products by total revenue in descending order\n",
    "top_products = product_revenue.sort_values(by=\"TOT_SALES\", ascending=False).head(3)"
   ]
  },
  {
   "cell_type": "code",
   "execution_count": 50,
   "id": "d851df7e-3c14-44d2-8a89-a4d37e0c01af",
   "metadata": {},
   "outputs": [
    {
     "name": "stdout",
     "output_type": "stream",
     "text": [
      "                                   PROD_NAME  TOT_SALES\n",
      "11          Dorito Corn Chp     Supreme 380g    40352.0\n",
      "86    Smiths Crnkle Chip  Orgnl Big Bag 380g    36367.6\n",
      "77  Smiths Crinkle Chips Salt & Vinegar 330g    34804.2\n"
     ]
    }
   ],
   "source": [
    "print(top_products)"
   ]
  },
  {
   "cell_type": "code",
   "execution_count": 51,
   "id": "b2974249-0cd4-493a-9266-1a7357945a0d",
   "metadata": {},
   "outputs": [],
   "source": [
    "# Group by customer ID (LYLTY_CARD_NBR) and calculate total spending and purchase count\n",
    "loyal_customers = df.groupby(\"LYLTY_CARD_NBR\").agg(\n",
    "    total_spent=(\"TOT_SALES\", \"sum\"),\n",
    "    total_purchases=(\"TXN_ID\", \"count\")  # Counting transactions as purchase frequency\n",
    ").reset_index()"
   ]
  },
  {
   "cell_type": "code",
   "execution_count": 52,
   "id": "be46376f-6185-41a5-85c5-fa6e4a9bdc5c",
   "metadata": {},
   "outputs": [],
   "source": [
    "# Sort customers by total spending in descending order to find the most loyal ones\n",
    "top_loyal_customers = loyal_customers.sort_values(by=\"total_spent\", ascending=False).head(10)"
   ]
  },
  {
   "cell_type": "code",
   "execution_count": 53,
   "id": "43926736-dfcc-4713-8428-d783f561268b",
   "metadata": {},
   "outputs": [
    {
     "name": "stdout",
     "output_type": "stream",
     "text": [
      "       LYLTY_CARD_NBR  total_spent  total_purchases\n",
      "59694          226000      1300.00                2\n",
      "60925          230078       138.60               17\n",
      "17292           63197       132.80               15\n",
      "69017          259009       127.20               15\n",
      "42813          162039       126.80               18\n",
      "16001           58361       124.80               14\n",
      "61001          230154       124.40               14\n",
      "25958           94185       122.80               16\n",
      "35338          130090       122.65               14\n",
      "47959          179228       120.80               16\n"
     ]
    }
   ],
   "source": [
    "# Display the top 10 most loyal customers\n",
    "print(top_loyal_customers)"
   ]
  },
  {
   "cell_type": "code",
   "execution_count": 54,
   "id": "4443ff4e-1e42-45f9-b417-399c93b0c212",
   "metadata": {},
   "outputs": [],
   "source": [
    "# Merge loyal customers data with the original dataset to get LIFESTAGE and PREMIUM_CUSTOMER details\n",
    "df_loyal = df[df[\"LYLTY_CARD_NBR\"].isin(top_loyal_customers[\"LYLTY_CARD_NBR\"])]"
   ]
  },
  {
   "cell_type": "code",
   "execution_count": 55,
   "id": "00c7f481-9c04-47a1-add7-5be5a34c59a7",
   "metadata": {},
   "outputs": [],
   "source": [
    "# Count occurrences of each LIFESTAGE and PREMIUM_CUSTOMER type among loyal customers\n",
    "lifestage_counts = df_loyal[\"LIFESTAGE\"].value_counts()\n",
    "premium_counts = df_loyal[\"PREMIUM_CUSTOMER\"].value_counts()"
   ]
  },
  {
   "cell_type": "code",
   "execution_count": 56,
   "id": "c03691a5-ce7f-45f8-890c-a8b5ea8c552b",
   "metadata": {},
   "outputs": [
    {
     "name": "stdout",
     "output_type": "stream",
     "text": [
      "Most Common Lifestages among Loyal Customers:\n",
      "LIFESTAGE\n",
      "OLDER FAMILIES           66\n",
      "YOUNG FAMILIES           60\n",
      "OLDER SINGLES/COUPLES    15\n",
      "Name: count, dtype: int64\n",
      "\n",
      "Most Common Premium Customer Types among Loyal Customers:\n",
      "PREMIUM_CUSTOMER\n",
      "Budget        90\n",
      "Mainstream    33\n",
      "Premium       18\n",
      "Name: count, dtype: int64\n"
     ]
    }
   ],
   "source": [
    "# Display the most common customer characteristics\n",
    "print(\"Most Common Lifestages among Loyal Customers:\")\n",
    "print(lifestage_counts)\n",
    "\n",
    "print(\"\\nMost Common Premium Customer Types among Loyal Customers:\")\n",
    "print(premium_counts)"
   ]
  },
  {
   "cell_type": "code",
   "execution_count": 57,
   "id": "9f11469c-ceca-49fd-ad55-d39f94c72a52",
   "metadata": {},
   "outputs": [],
   "source": [
    "# Generate summary findings\n",
    "summary = f\"\"\"\n",
    "### Summary of Findings\n",
    "\n",
    "#### 1️⃣ Top 3 Most Profitable Products:\n",
    "{top_products.to_string(index=False)}\n",
    "\n",
    "#### 2️⃣ Characteristics of Most Loyal Customers:\n",
    "- Most common LIFESTAGE among loyal customers: {lifestage_counts.idxmax()} ({lifestage_counts.max()} occurrences)\n",
    "- Most common PREMIUM_CUSTOMER type among loyal customers: {premium_counts.idxmax()} ({premium_counts.max()} occurrences)\n",
    "\n",
    "#### 3️⃣ Marketing Insights:\n",
    "- The most loyal customers belong to the **{lifestage_counts.idxmax()}** life stage and are **{premium_counts.idxmax()}** buyers.\n",
    "- Since these customers contribute the most revenue, marketing campaigns should focus on **targeting similar customer profiles**.\n",
    "- Promotions, loyalty programs, and personalized recommendations for the **top 3 profitable products** could further increase sales.\n",
    "\"\"\""
   ]
  },
  {
   "cell_type": "code",
   "execution_count": 59,
   "id": "94bd68bc-619a-4822-8610-2aa3f3ee408f",
   "metadata": {},
   "outputs": [
    {
     "name": "stdout",
     "output_type": "stream",
     "text": [
      "\n",
      "### Summary of Findings\n",
      "\n",
      "#### 1️⃣ Top 3 Most Profitable Products:\n",
      "                               PROD_NAME  TOT_SALES\n",
      "        Dorito Corn Chp     Supreme 380g    40352.0\n",
      "  Smiths Crnkle Chip  Orgnl Big Bag 380g    36367.6\n",
      "Smiths Crinkle Chips Salt & Vinegar 330g    34804.2\n",
      "\n",
      "#### 2️⃣ Characteristics of Most Loyal Customers:\n",
      "- Most common LIFESTAGE among loyal customers: OLDER FAMILIES (66 occurrences)\n",
      "- Most common PREMIUM_CUSTOMER type among loyal customers: Budget (90 occurrences)\n",
      "\n",
      "#### 3️⃣ Marketing Insights:\n",
      "- The most loyal customers belong to the **OLDER FAMILIES** life stage and are **Budget** buyers.\n",
      "- Since these customers contribute the most revenue, marketing campaigns should focus on **targeting similar customer profiles**.\n",
      "- Promotions, loyalty programs, and personalized recommendations for the **top 3 profitable products** could further increase sales.\n",
      "\n"
     ]
    }
   ],
   "source": [
    "# Save the summary to a text file\n",
    "with open(\"summary_report.txt\", \"w\",encoding=\"utf-8\") as file:\n",
    "    file.write(summary)\n",
    "\n",
    "# Print the summary\n",
    "print(summary)"
   ]
  }
 ],
 "metadata": {
  "kernelspec": {
   "display_name": "Python 3 (ipykernel)",
   "language": "python",
   "name": "python3"
  },
  "language_info": {
   "codemirror_mode": {
    "name": "ipython",
    "version": 3
   },
   "file_extension": ".py",
   "mimetype": "text/x-python",
   "name": "python",
   "nbconvert_exporter": "python",
   "pygments_lexer": "ipython3",
   "version": "3.11.7"
  }
 },
 "nbformat": 4,
 "nbformat_minor": 5
}
